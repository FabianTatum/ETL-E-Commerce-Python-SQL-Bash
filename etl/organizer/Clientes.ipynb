{
 "cells": [
  {
   "cell_type": "markdown",
   "metadata": {},
   "source": [
    "## Datos de Cliente"
   ]
  },
  {
   "cell_type": "code",
   "execution_count": 1,
   "metadata": {},
   "outputs": [],
   "source": [
    "import sys\n",
    "sys.path.append(\"..\")"
   ]
  },
  {
   "cell_type": "code",
   "execution_count": 2,
   "metadata": {},
   "outputs": [],
   "source": [
    "import pandas as pd\n",
    "import funciones as func"
   ]
  },
  {
   "cell_type": "code",
   "execution_count": 3,
   "metadata": {},
   "outputs": [],
   "source": [
    "\n",
    "df_clientes = pd.read_csv('../data-input/Clientes.csv', delimiter=';')"
   ]
  },
  {
   "cell_type": "code",
   "execution_count": 4,
   "metadata": {},
   "outputs": [],
   "source": [
    "# TODO  Borrar columnas innecesarias\n",
    "df_clientes.drop('col10', axis=1, inplace=True)"
   ]
  },
  {
   "cell_type": "code",
   "execution_count": 5,
   "metadata": {},
   "outputs": [],
   "source": [
    "# TODO: Renombrar columnas\n",
    "\n",
    "name_columns = {\n",
    "    'ID' : 'Cliente_id',\n",
    "    'Nombre_y_Apellido': 'Nombres',\n",
    "    'X': 'Longitud',\n",
    "    'Y': 'Latitud'\n",
    "}\n",
    "\n",
    "df_clientes.rename(columns=name_columns, inplace=True)"
   ]
  },
  {
   "cell_type": "code",
   "execution_count": 6,
   "metadata": {},
   "outputs": [],
   "source": [
    "# TODO: Imputar valores faltantes\n",
    "\n",
    "df_clientes['Provincia'].fillna('Sin Datos', inplace=True)\n",
    "df_clientes['Nombres'].fillna('Sin Datos', inplace=True)\n",
    "df_clientes['Domicilio'].fillna('Sin Datos', inplace=True)\n",
    "df_clientes['Localidad'].fillna('Sin Datos', inplace=True)\n",
    "df_clientes['Telefono'].fillna('Sin Datos', inplace=True)"
   ]
  },
  {
   "cell_type": "code",
   "execution_count": 7,
   "metadata": {},
   "outputs": [],
   "source": [
    "# TODO: Nomalizar datos a letra capital\n",
    "\n",
    "Cap = lambda x : x.title()\n",
    "\n",
    "df_clientes['Provincia'] = df_clientes['Provincia'].map(Cap)\n",
    "df_clientes['Nombres'] = df_clientes['Nombres'].map(Cap)\n",
    "df_clientes['Domicilio'] = df_clientes['Domicilio'].map(Cap)\n",
    "df_clientes['Localidad'] = df_clientes['Localidad'].map(Cap)"
   ]
  },
  {
   "cell_type": "code",
   "execution_count": 8,
   "metadata": {},
   "outputs": [],
   "source": [
    "# TODO: Cambiar tipos de dato\n",
    "\n",
    "rep = lambda x : x.replace(',', '.')\n",
    "\n",
    "df_clientes['Latitud'] = df_clientes['Latitud'].astype(str, copy=True, errors='raise')\n",
    "df_clientes['Latitud'] = df_clientes['Latitud'].map(rep)\n",
    "df_clientes['Latitud'] = df_clientes['Latitud'].astype(float, copy=True, errors='raise')\n",
    "\n",
    "df_clientes['Longitud'] = df_clientes['Longitud'].astype(str, copy=True, errors='raise')\n",
    "df_clientes['Longitud'] = df_clientes['Longitud'].map(rep)\n",
    "df_clientes['Longitud'] = df_clientes['Longitud'].astype(float, copy=True, errors='raise')"
   ]
  },
  {
   "cell_type": "code",
   "execution_count": 9,
   "metadata": {},
   "outputs": [],
   "source": [
    "# TODO: Imputar valores nulos\n",
    "\n",
    "df_clientes['Longitud'] = df_clientes['Longitud'].fillna(0)\n",
    "df_clientes['Latitud'] = df_clientes['Latitud'].fillna(0)"
   ]
  },
  {
   "cell_type": "code",
   "execution_count": 10,
   "metadata": {},
   "outputs": [
    {
     "name": "stdout",
     "output_type": "stream",
     "text": [
      "<class 'pandas.core.frame.DataFrame'>\n",
      "RangeIndex: 2672 entries, 0 to 2671\n",
      "Data columns (total 9 columns):\n",
      " #   Column      Non-Null Count  Dtype  \n",
      "---  ------      --------------  -----  \n",
      " 0   Cliente_id  2672 non-null   int64  \n",
      " 1   Provincia   2672 non-null   object \n",
      " 2   Nombres     2672 non-null   object \n",
      " 3   Domicilio   2672 non-null   object \n",
      " 4   Telefono    2672 non-null   object \n",
      " 5   Edad        2672 non-null   int64  \n",
      " 6   Localidad   2672 non-null   object \n",
      " 7   Longitud    2672 non-null   float64\n",
      " 8   Latitud     2672 non-null   float64\n",
      "dtypes: float64(2), int64(2), object(5)\n",
      "memory usage: 188.0+ KB\n"
     ]
    }
   ],
   "source": [
    "df_clientes.info()"
   ]
  }
 ],
 "metadata": {
  "kernelspec": {
   "display_name": "Python 3.9.12 ('base')",
   "language": "python",
   "name": "python3"
  },
  "language_info": {
   "codemirror_mode": {
    "name": "ipython",
    "version": 3
   },
   "file_extension": ".py",
   "mimetype": "text/x-python",
   "name": "python",
   "nbconvert_exporter": "python",
   "pygments_lexer": "ipython3",
   "version": "3.9.12"
  },
  "orig_nbformat": 4,
  "vscode": {
   "interpreter": {
    "hash": "de3a36d475e5f26841ec7388f3bf55db2f49f9bc2f20706f42a79b37e051f6ab"
   }
  }
 },
 "nbformat": 4,
 "nbformat_minor": 2
}
