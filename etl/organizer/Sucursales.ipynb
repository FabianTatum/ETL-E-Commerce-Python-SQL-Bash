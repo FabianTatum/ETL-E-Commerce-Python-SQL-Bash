{
 "cells": [
  {
   "cell_type": "markdown",
   "metadata": {},
   "source": [
    "### Transformación de Sucursales"
   ]
  },
  {
   "cell_type": "code",
   "execution_count": 1,
   "metadata": {},
   "outputs": [],
   "source": [
    "import pandas as pd"
   ]
  },
  {
   "cell_type": "code",
   "execution_count": 2,
   "metadata": {},
   "outputs": [],
   "source": [
    "df_sucursales = pd.read_csv('../../data-input/Sucursales.csv', delimiter=';')"
   ]
  },
  {
   "cell_type": "code",
   "execution_count": 3,
   "metadata": {},
   "outputs": [],
   "source": [
    "# TODO: Normalización de Nombres\n",
    "\n",
    "df_sucursales[\"Localidad\"] = [str(x).replace('Ã³',\"ó\") for x in df_sucursales[\"Localidad\"]]\n",
    "df_sucursales[\"Localidad\"] = [str(x).replace('Ã',\"í\") for x in df_sucursales[\"Localidad\"]]\n",
    "df_sucursales[\"Localidad\"] = [str(x).replace('Tucumí¡n',\"Tucumán\") for x in df_sucursales[\"Localidad\"]]\n",
    "df_sucursales.loc[df_sucursales['Localidad'].str.contains('Buenos'), 'Localidad'] = 'CABA'\n",
    "df_sucursales.loc[df_sucursales['Localidad'].str.startswith('Cap'), 'Localidad'] = 'CABA'\n",
    "df_sucursales.loc[df_sucursales['Localidad'].str.endswith('oba'), 'Localidad'] = 'Córdoba'\n",
    "df_sucursales[\"Provincia\"] = [str(x).replace('Ã³',\"ó\") for x in df_sucursales[\"Provincia\"]]\n",
    "df_sucursales[\"Provincia\"] = [str(x).replace('Ã­',\"í\") for x in df_sucursales[\"Provincia\"]]\n",
    "df_sucursales[\"Provincia\"] = [str(x).replace('TucumÃ¡n',\"Tucumán\") for x in df_sucursales[\"Provincia\"]]\n",
    "df_sucursales.loc[df_sucursales['Provincia'].str.contains('B.'), 'Provincia'] = 'Buenos Aires'\n",
    "df_sucursales.loc[df_sucursales['Provincia'].str.endswith('oba'), 'Provincia'] = 'Córdoba'\n",
    "df_sucursales[\"Sucursal\"] = [str(x).replace('Ã³',\"ó\") for x in df_sucursales[\"Sucursal\"]]\n",
    "df_sucursales[\"Sucursal\"] = [str(x).replace('Ã¡',\"á\") for x in df_sucursales[\"Sucursal\"]]"
   ]
  },
  {
   "cell_type": "code",
   "execution_count": 4,
   "metadata": {},
   "outputs": [],
   "source": [
    "# TODO: Renombrar columnas\n",
    "\n",
    "rename_columns = {\n",
    "    'ID': 'Sucursal_id'\n",
    "}\n",
    "\n",
    "df_sucursales.rename(columns=rename_columns, inplace=True)"
   ]
  },
  {
   "cell_type": "code",
   "execution_count": 5,
   "metadata": {},
   "outputs": [],
   "source": [
    "# TODO: Cambiar tipos de datos\n",
    "rep = lambda x : x.replace(',', '.')\n",
    "\n",
    "df_sucursales['Latitud'] = df_sucursales['Latitud'].map(rep)\n",
    "df_sucursales['Latitud'] = df_sucursales['Latitud'].astype(float, copy=True, errors='raise')\n",
    "\n",
    "df_sucursales['Longitud'] = df_sucursales['Longitud'].map(rep)\n",
    "df_sucursales['Longitud'] = df_sucursales['Longitud'].astype(float, copy=True, errors='raise')\n"
   ]
  },
  {
   "cell_type": "code",
   "execution_count": 6,
   "metadata": {},
   "outputs": [],
   "source": [
    "# TODO: Normalizar en letra capital\n",
    "\n",
    "Cap = lambda x : x.title()\n",
    "\n",
    "df_sucursales['Localidad'] = df_sucursales['Localidad'].map(Cap)"
   ]
  },
  {
   "cell_type": "code",
   "execution_count": 7,
   "metadata": {},
   "outputs": [
    {
     "name": "stdout",
     "output_type": "stream",
     "text": [
      "<class 'pandas.core.frame.DataFrame'>\n",
      "RangeIndex: 31 entries, 0 to 30\n",
      "Data columns (total 7 columns):\n",
      " #   Column       Non-Null Count  Dtype  \n",
      "---  ------       --------------  -----  \n",
      " 0   Sucursal_id  31 non-null     int64  \n",
      " 1   Sucursal     31 non-null     object \n",
      " 2   Direccion    31 non-null     object \n",
      " 3   Localidad    31 non-null     object \n",
      " 4   Provincia    31 non-null     object \n",
      " 5   Latitud      31 non-null     float64\n",
      " 6   Longitud     31 non-null     float64\n",
      "dtypes: float64(2), int64(1), object(4)\n",
      "memory usage: 1.8+ KB\n"
     ]
    }
   ],
   "source": [
    "df_sucursales.info()"
   ]
  }
 ],
 "metadata": {
  "kernelspec": {
   "display_name": "Python 3.9.12 ('base')",
   "language": "python",
   "name": "python3"
  },
  "language_info": {
   "codemirror_mode": {
    "name": "ipython",
    "version": 3
   },
   "file_extension": ".py",
   "mimetype": "text/x-python",
   "name": "python",
   "nbconvert_exporter": "python",
   "pygments_lexer": "ipython3",
   "version": "3.9.12"
  },
  "orig_nbformat": 4,
  "vscode": {
   "interpreter": {
    "hash": "de3a36d475e5f26841ec7388f3bf55db2f49f9bc2f20706f42a79b37e051f6ab"
   }
  }
 },
 "nbformat": 4,
 "nbformat_minor": 2
}
