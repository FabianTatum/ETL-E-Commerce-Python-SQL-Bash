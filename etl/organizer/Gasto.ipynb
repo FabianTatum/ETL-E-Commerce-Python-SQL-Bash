{
 "cells": [
  {
   "cell_type": "markdown",
   "metadata": {},
   "source": [
    "### Datos de Gasto"
   ]
  },
  {
   "cell_type": "code",
   "execution_count": 18,
   "metadata": {},
   "outputs": [],
   "source": [
    "import sys\n",
    "sys.path.append('../..')"
   ]
  },
  {
   "cell_type": "code",
   "execution_count": 19,
   "metadata": {},
   "outputs": [],
   "source": [
    "import pandas as pd\n",
    "import helpers as hlp"
   ]
  },
  {
   "cell_type": "code",
   "execution_count": 20,
   "metadata": {},
   "outputs": [],
   "source": [
    "df_gastos = pd.read_csv('../../data-input/Gasto.csv')"
   ]
  },
  {
   "cell_type": "code",
   "execution_count": 21,
   "metadata": {},
   "outputs": [],
   "source": [
    "# TODO: Renombrar columnas \n",
    "\n",
    "rename_columns = {\n",
    "    'IdGasto': 'Gasto_id',\n",
    "    'IdSucursal': 'Sucursal_id',\n",
    "    'IdTipoGasto': 'TipoGasto_id'\n",
    "}\n",
    "\n",
    "df_gastos.rename(columns=rename_columns, inplace=True)"
   ]
  },
  {
   "cell_type": "code",
   "execution_count": 22,
   "metadata": {},
   "outputs": [],
   "source": [
    "# TODO: Cambiar tipo de dato\n",
    "\n",
    "df_gastos['Fecha'] = pd.to_datetime(df_gastos['Fecha'])"
   ]
  },
  {
   "cell_type": "code",
   "execution_count": 23,
   "metadata": {},
   "outputs": [],
   "source": [
    "# TODO: Organizar columnas\n",
    "\n",
    "df_gastos = df_gastos.reindex(columns=['Gasto_id', 'Fecha', 'Sucursal_id', 'TipoGasto_id', 'Monto'])"
   ]
  },
  {
   "cell_type": "code",
   "execution_count": 24,
   "metadata": {},
   "outputs": [],
   "source": [
    "# TODO: Detección de outliers\n",
    "\n",
    "df_clean, outliers, _, _ = hlp.IQROutliers(df_gastos, 'Monto')"
   ]
  },
  {
   "cell_type": "code",
   "execution_count": 25,
   "metadata": {},
   "outputs": [
    {
     "name": "stdout",
     "output_type": "stream",
     "text": [
      "(8640, 5)\n",
      "(8640, 5)\n",
      "(0, 5)\n"
     ]
    }
   ],
   "source": [
    "print(df_gastos.shape)\n",
    "print(df_clean.shape)\n",
    "print(outliers.shape)"
   ]
  },
  {
   "cell_type": "code",
   "execution_count": 26,
   "metadata": {},
   "outputs": [
    {
     "name": "stdout",
     "output_type": "stream",
     "text": [
      "<class 'pandas.core.frame.DataFrame'>\n",
      "Int64Index: 8640 entries, 0 to 8639\n",
      "Data columns (total 5 columns):\n",
      " #   Column        Non-Null Count  Dtype         \n",
      "---  ------        --------------  -----         \n",
      " 0   Gasto_id      8640 non-null   int64         \n",
      " 1   Fecha         8640 non-null   datetime64[ns]\n",
      " 2   Sucursal_id   8640 non-null   int64         \n",
      " 3   TipoGasto_id  8640 non-null   int64         \n",
      " 4   Monto         8640 non-null   float64       \n",
      "dtypes: datetime64[ns](1), float64(1), int64(3)\n",
      "memory usage: 405.0 KB\n"
     ]
    }
   ],
   "source": [
    "df_clean.info()"
   ]
  }
 ],
 "metadata": {
  "kernelspec": {
   "display_name": "Python 3.9.12 ('base')",
   "language": "python",
   "name": "python3"
  },
  "language_info": {
   "codemirror_mode": {
    "name": "ipython",
    "version": 3
   },
   "file_extension": ".py",
   "mimetype": "text/x-python",
   "name": "python",
   "nbconvert_exporter": "python",
   "pygments_lexer": "ipython3",
   "version": "3.9.12"
  },
  "orig_nbformat": 4,
  "vscode": {
   "interpreter": {
    "hash": "de3a36d475e5f26841ec7388f3bf55db2f49f9bc2f20706f42a79b37e051f6ab"
   }
  }
 },
 "nbformat": 4,
 "nbformat_minor": 2
}
