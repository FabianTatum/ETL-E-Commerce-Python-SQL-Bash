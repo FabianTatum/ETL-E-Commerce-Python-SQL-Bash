{
 "cells": [
  {
   "cell_type": "markdown",
   "metadata": {},
   "source": [
    "### Transformaciones de Compra"
   ]
  },
  {
   "cell_type": "code",
   "execution_count": 4,
   "metadata": {},
   "outputs": [],
   "source": [
    "import sys\n",
    "sys.path.append('../..')"
   ]
  },
  {
   "cell_type": "code",
   "execution_count": 5,
   "metadata": {},
   "outputs": [],
   "source": [
    "import pandas as pd\n",
    "import helpers as hlp"
   ]
  },
  {
   "cell_type": "code",
   "execution_count": 6,
   "metadata": {},
   "outputs": [],
   "source": [
    "df_compras = pd.read_csv('../../data-input/Compra.csv')"
   ]
  },
  {
   "cell_type": "code",
   "execution_count": 7,
   "metadata": {},
   "outputs": [],
   "source": [
    "# TODO: Borrar columnas inncesesarias\n",
    "\n",
    "drop_columns = ['Fecha_Año', 'Fecha_Mes', 'Fecha_Periodo']\n",
    "df_compras.drop(columns=drop_columns, inplace=True)"
   ]
  },
  {
   "cell_type": "code",
   "execution_count": 8,
   "metadata": {},
   "outputs": [],
   "source": [
    "# TODO: Renombrar columnas\n",
    "\n",
    "name_columns = {\n",
    "    'IdCompra': 'Compra_id',\n",
    "    'IdProducto': 'Producto_id',\n",
    "    'IdProveedor': 'Proveedor_id'\n",
    "}\n",
    "\n",
    "df_compras.rename(columns=name_columns, inplace=True)"
   ]
  },
  {
   "cell_type": "code",
   "execution_count": 9,
   "metadata": {},
   "outputs": [],
   "source": [
    "# TODO: Organizar columnas\n",
    "\n",
    "df_compras = df_compras.reindex(columns=['Compra_id', 'Fecha', 'Producto_id', 'Proveedor_id', 'Cantidad', 'Precio'])"
   ]
  },
  {
   "cell_type": "code",
   "execution_count": 10,
   "metadata": {},
   "outputs": [],
   "source": [
    "# TODO: Cambiar tipo de dato de las columnas\n",
    "\n",
    "df_compras['Fecha'] = pd.to_datetime(df_compras['Fecha'])"
   ]
  },
  {
   "cell_type": "code",
   "execution_count": 11,
   "metadata": {},
   "outputs": [],
   "source": [
    "# TODO: Imputar valores nulos\n",
    "\n",
    "df_compras['Precio'] = df_compras['Precio'].fillna(0)"
   ]
  },
  {
   "cell_type": "code",
   "execution_count": 12,
   "metadata": {},
   "outputs": [
    {
     "name": "stdout",
     "output_type": "stream",
     "text": [
      "<class 'pandas.core.frame.DataFrame'>\n",
      "RangeIndex: 11539 entries, 0 to 11538\n",
      "Data columns (total 6 columns):\n",
      " #   Column        Non-Null Count  Dtype         \n",
      "---  ------        --------------  -----         \n",
      " 0   Compra_id     11539 non-null  int64         \n",
      " 1   Fecha         11539 non-null  datetime64[ns]\n",
      " 2   Producto_id   11539 non-null  int64         \n",
      " 3   Proveedor_id  11539 non-null  int64         \n",
      " 4   Cantidad      11539 non-null  int64         \n",
      " 5   Precio        11539 non-null  float64       \n",
      "dtypes: datetime64[ns](1), float64(1), int64(4)\n",
      "memory usage: 541.0 KB\n"
     ]
    }
   ],
   "source": [
    "df_compras.info()"
   ]
  },
  {
   "cell_type": "code",
   "execution_count": 13,
   "metadata": {},
   "outputs": [],
   "source": [
    "# TODO: Deteccion de outliers\n",
    "\n",
    "df_clean, df_outliers_cantidad, minlim, maxlim = hlp.SigmaOutliers(df_compras, 'Cantidad')\n",
    "df_clean, df_outliers_precio, minlim, maxlim = hlp.IQROutliers(df_clean, 'Precio')"
   ]
  },
  {
   "cell_type": "code",
   "execution_count": 14,
   "metadata": {},
   "outputs": [],
   "source": [
    "# TODO: Almacenar todos los outliers en un dataframe\n",
    "\n",
    "outliers_compras = pd.merge(df_outliers_cantidad, df_outliers_precio, how='outer')"
   ]
  },
  {
   "cell_type": "code",
   "execution_count": 15,
   "metadata": {},
   "outputs": [
    {
     "name": "stdout",
     "output_type": "stream",
     "text": [
      "(11539, 6)\n",
      "(9366, 6)\n",
      "(2173, 6)\n"
     ]
    }
   ],
   "source": [
    "print(df_compras.shape)\n",
    "print(df_clean.shape)\n",
    "print(outliers_compras.shape)"
   ]
  }
 ],
 "metadata": {
  "kernelspec": {
   "display_name": "Python 3.9.12 ('base')",
   "language": "python",
   "name": "python3"
  },
  "language_info": {
   "codemirror_mode": {
    "name": "ipython",
    "version": 3
   },
   "file_extension": ".py",
   "mimetype": "text/x-python",
   "name": "python",
   "nbconvert_exporter": "python",
   "pygments_lexer": "ipython3",
   "version": "3.9.12"
  },
  "orig_nbformat": 4,
  "vscode": {
   "interpreter": {
    "hash": "de3a36d475e5f26841ec7388f3bf55db2f49f9bc2f20706f42a79b37e051f6ab"
   }
  }
 },
 "nbformat": 4,
 "nbformat_minor": 2
}
