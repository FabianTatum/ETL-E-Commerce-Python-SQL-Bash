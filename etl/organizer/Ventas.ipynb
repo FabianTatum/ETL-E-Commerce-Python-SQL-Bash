{
 "cells": [
  {
   "cell_type": "markdown",
   "metadata": {},
   "source": [
    "### Transformación de Ventas"
   ]
  },
  {
   "cell_type": "code",
   "execution_count": 4,
   "metadata": {},
   "outputs": [],
   "source": [
    "import sys\n",
    "sys.path.append('../..')"
   ]
  },
  {
   "cell_type": "code",
   "execution_count": 5,
   "metadata": {},
   "outputs": [],
   "source": [
    "import pandas as pd\n",
    "import helpers as hlp"
   ]
  },
  {
   "cell_type": "code",
   "execution_count": 6,
   "metadata": {},
   "outputs": [],
   "source": [
    "df_ventas = pd.read_csv('../../data-input/Venta.csv')"
   ]
  },
  {
   "cell_type": "code",
   "execution_count": 7,
   "metadata": {},
   "outputs": [
    {
     "name": "stdout",
     "output_type": "stream",
     "text": [
      "<class 'pandas.core.frame.DataFrame'>\n",
      "RangeIndex: 46645 entries, 0 to 46644\n",
      "Data columns (total 10 columns):\n",
      " #   Column         Non-Null Count  Dtype  \n",
      "---  ------         --------------  -----  \n",
      " 0   IdVenta        46645 non-null  int64  \n",
      " 1   Fecha          46645 non-null  object \n",
      " 2   Fecha_Entrega  46645 non-null  object \n",
      " 3   IdCanal        46645 non-null  int64  \n",
      " 4   IdCliente      46645 non-null  int64  \n",
      " 5   IdSucursal     46645 non-null  int64  \n",
      " 6   IdEmpleado     46645 non-null  int64  \n",
      " 7   IdProducto     46645 non-null  int64  \n",
      " 8   Precio         45721 non-null  float64\n",
      " 9   Cantidad       45753 non-null  float64\n",
      "dtypes: float64(2), int64(6), object(2)\n",
      "memory usage: 3.6+ MB\n"
     ]
    }
   ],
   "source": [
    "df_ventas.info()"
   ]
  },
  {
   "cell_type": "code",
   "execution_count": 8,
   "metadata": {},
   "outputs": [],
   "source": [
    "rename_columns = {\n",
    "    'IdVenta': 'Venta_id',\n",
    "    'IdCanal': 'Canal_id',\n",
    "    'IdCliente': 'Cliente_id',\n",
    "    'IdSucursal': 'Sucursal_id',\n",
    "    'IdEmpleado': 'Empleado_id',\n",
    "    'IdProducto': 'Producto_id'\n",
    "}\n",
    "\n",
    "df_ventas.rename(columns=rename_columns, inplace=True)"
   ]
  },
  {
   "cell_type": "code",
   "execution_count": 9,
   "metadata": {},
   "outputs": [
    {
     "name": "stdout",
     "output_type": "stream",
     "text": [
      "<class 'pandas.core.frame.DataFrame'>\n",
      "RangeIndex: 46645 entries, 0 to 46644\n",
      "Data columns (total 10 columns):\n",
      " #   Column         Non-Null Count  Dtype  \n",
      "---  ------         --------------  -----  \n",
      " 0   Venta_id       46645 non-null  int64  \n",
      " 1   Fecha          46645 non-null  object \n",
      " 2   Fecha_Entrega  46645 non-null  object \n",
      " 3   Canal_id       46645 non-null  int64  \n",
      " 4   Cliente_id     46645 non-null  int64  \n",
      " 5   Sucursal_id    46645 non-null  int64  \n",
      " 6   Empleado_id    46645 non-null  int64  \n",
      " 7   Producto_id    46645 non-null  int64  \n",
      " 8   Precio         45721 non-null  float64\n",
      " 9   Cantidad       45753 non-null  float64\n",
      "dtypes: float64(2), int64(6), object(2)\n",
      "memory usage: 3.6+ MB\n"
     ]
    }
   ],
   "source": [
    "df_ventas.info()"
   ]
  },
  {
   "cell_type": "code",
   "execution_count": 10,
   "metadata": {},
   "outputs": [],
   "source": [
    "# TODO: Imputación de valures nulos\n",
    "\n",
    "df_ventas['Precio'] = df_ventas['Precio'].fillna(0)\n",
    "df_ventas['Cantidad'] = df_ventas['Cantidad'].fillna(0)"
   ]
  },
  {
   "cell_type": "code",
   "execution_count": 11,
   "metadata": {},
   "outputs": [
    {
     "name": "stdout",
     "output_type": "stream",
     "text": [
      "<class 'pandas.core.frame.DataFrame'>\n",
      "RangeIndex: 46645 entries, 0 to 46644\n",
      "Data columns (total 10 columns):\n",
      " #   Column         Non-Null Count  Dtype  \n",
      "---  ------         --------------  -----  \n",
      " 0   Venta_id       46645 non-null  int64  \n",
      " 1   Fecha          46645 non-null  object \n",
      " 2   Fecha_Entrega  46645 non-null  object \n",
      " 3   Canal_id       46645 non-null  int64  \n",
      " 4   Cliente_id     46645 non-null  int64  \n",
      " 5   Sucursal_id    46645 non-null  int64  \n",
      " 6   Empleado_id    46645 non-null  int64  \n",
      " 7   Producto_id    46645 non-null  int64  \n",
      " 8   Precio         46645 non-null  float64\n",
      " 9   Cantidad       46645 non-null  float64\n",
      "dtypes: float64(2), int64(6), object(2)\n",
      "memory usage: 3.6+ MB\n"
     ]
    }
   ],
   "source": [
    "df_ventas.info()"
   ]
  },
  {
   "cell_type": "code",
   "execution_count": 12,
   "metadata": {},
   "outputs": [],
   "source": [
    "# TODO: Normalización de fechas\n",
    "\n",
    "df_ventas['Fecha'] = pd.to_datetime(df_ventas['Fecha'])\n",
    "df_ventas['Fecha_Entrega'] = pd.to_datetime(df_ventas['Fecha_Entrega'])"
   ]
  },
  {
   "cell_type": "code",
   "execution_count": 13,
   "metadata": {},
   "outputs": [
    {
     "name": "stdout",
     "output_type": "stream",
     "text": [
      "<class 'pandas.core.frame.DataFrame'>\n",
      "RangeIndex: 46645 entries, 0 to 46644\n",
      "Data columns (total 10 columns):\n",
      " #   Column         Non-Null Count  Dtype         \n",
      "---  ------         --------------  -----         \n",
      " 0   Venta_id       46645 non-null  int64         \n",
      " 1   Fecha          46645 non-null  datetime64[ns]\n",
      " 2   Fecha_Entrega  46645 non-null  datetime64[ns]\n",
      " 3   Canal_id       46645 non-null  int64         \n",
      " 4   Cliente_id     46645 non-null  int64         \n",
      " 5   Sucursal_id    46645 non-null  int64         \n",
      " 6   Empleado_id    46645 non-null  int64         \n",
      " 7   Producto_id    46645 non-null  int64         \n",
      " 8   Precio         46645 non-null  float64       \n",
      " 9   Cantidad       46645 non-null  float64       \n",
      "dtypes: datetime64[ns](2), float64(2), int64(6)\n",
      "memory usage: 3.6 MB\n"
     ]
    }
   ],
   "source": [
    "df_ventas.info()"
   ]
  },
  {
   "cell_type": "code",
   "execution_count": 14,
   "metadata": {},
   "outputs": [],
   "source": [
    "# TODO: Detección de Outliers\n",
    "\n",
    "df_clean, outliers_cantidad, _, _ = hlp.SigmaOutliers(df_ventas, 'Cantidad')\n",
    "df_clean, outliers_precio, _, _ = hlp.SigmaOutliers(df_clean, 'Cantidad')"
   ]
  },
  {
   "cell_type": "code",
   "execution_count": 15,
   "metadata": {},
   "outputs": [],
   "source": [
    "outliers = pd.merge(outliers_precio, outliers_cantidad, how='outer')"
   ]
  },
  {
   "cell_type": "code",
   "execution_count": 16,
   "metadata": {},
   "outputs": [
    {
     "name": "stdout",
     "output_type": "stream",
     "text": [
      "(46645, 10)\n",
      "(45732, 10)\n",
      "(913, 10)\n"
     ]
    }
   ],
   "source": [
    "print(df_ventas.shape)\n",
    "print(df_clean.shape)\n",
    "print(outliers.shape)"
   ]
  }
 ],
 "metadata": {
  "kernelspec": {
   "display_name": "Python 3.9.12 ('base')",
   "language": "python",
   "name": "python3"
  },
  "language_info": {
   "codemirror_mode": {
    "name": "ipython",
    "version": 3
   },
   "file_extension": ".py",
   "mimetype": "text/x-python",
   "name": "python",
   "nbconvert_exporter": "python",
   "pygments_lexer": "ipython3",
   "version": "3.9.12"
  },
  "orig_nbformat": 4,
  "vscode": {
   "interpreter": {
    "hash": "de3a36d475e5f26841ec7388f3bf55db2f49f9bc2f20706f42a79b37e051f6ab"
   }
  }
 },
 "nbformat": 4,
 "nbformat_minor": 2
}
