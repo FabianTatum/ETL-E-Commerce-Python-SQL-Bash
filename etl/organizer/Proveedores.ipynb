{
 "cells": [
  {
   "cell_type": "markdown",
   "metadata": {},
   "source": [
    "### Transformación en Proveedores"
   ]
  },
  {
   "cell_type": "code",
   "execution_count": 3,
   "metadata": {},
   "outputs": [],
   "source": [
    "import pandas as pd"
   ]
  },
  {
   "cell_type": "code",
   "execution_count": 4,
   "metadata": {},
   "outputs": [],
   "source": [
    "df_proveedores = pd.read_csv('../../data-input/Proveedores.csv', encoding='latin-1')"
   ]
  },
  {
   "cell_type": "code",
   "execution_count": 5,
   "metadata": {},
   "outputs": [],
   "source": [
    "# TODO: Renombrar columnas\n",
    "\n",
    "rename_columns = {\n",
    "    'IDProveedor': 'Proveedor_id',\n",
    "    'Nombre': 'Nombres',\n",
    "    'Address': 'Direccion',\n",
    "    'City': 'Localidad',\n",
    "    'State': 'Provincia'\n",
    "}\n",
    "\n",
    "df_proveedores.rename(columns=rename_columns, inplace=True)"
   ]
  },
  {
   "cell_type": "code",
   "execution_count": 6,
   "metadata": {},
   "outputs": [],
   "source": [
    "# TODO: Eliminar columnas innecesarias\n",
    "\n",
    "df_proveedores.drop(columns=['departamen', 'Country'], axis=1, inplace=True)"
   ]
  },
  {
   "cell_type": "code",
   "execution_count": 7,
   "metadata": {},
   "outputs": [],
   "source": [
    "# TODO: Imputación de valores faltantes\n",
    "\n",
    "df_proveedores['Nombres'] = df_proveedores['Nombres'].fillna('Sin Dato')"
   ]
  },
  {
   "cell_type": "code",
   "execution_count": 8,
   "metadata": {},
   "outputs": [],
   "source": [
    "# TODO: Normalizar columnas en letra capital\n",
    "\n",
    "Cap = lambda x : x.title()\n",
    "\n",
    "df_proveedores['Direccion'] = df_proveedores['Direccion'].map(Cap)\n",
    "df_proveedores['Localidad'] = df_proveedores['Localidad'].map(Cap)\n",
    "df_proveedores['Provincia'] = df_proveedores['Provincia'].map(Cap)"
   ]
  },
  {
   "cell_type": "code",
   "execution_count": 9,
   "metadata": {},
   "outputs": [
    {
     "name": "stdout",
     "output_type": "stream",
     "text": [
      "<class 'pandas.core.frame.DataFrame'>\n",
      "RangeIndex: 14 entries, 0 to 13\n",
      "Data columns (total 5 columns):\n",
      " #   Column        Non-Null Count  Dtype \n",
      "---  ------        --------------  ----- \n",
      " 0   Proveedor_id  14 non-null     int64 \n",
      " 1   Nombres       14 non-null     object\n",
      " 2   Direccion     14 non-null     object\n",
      " 3   Localidad     14 non-null     object\n",
      " 4   Provincia     14 non-null     object\n",
      "dtypes: int64(1), object(4)\n",
      "memory usage: 688.0+ bytes\n"
     ]
    }
   ],
   "source": [
    "df_proveedores.info()"
   ]
  }
 ],
 "metadata": {
  "kernelspec": {
   "display_name": "Python 3.9.12 ('base')",
   "language": "python",
   "name": "python3"
  },
  "language_info": {
   "codemirror_mode": {
    "name": "ipython",
    "version": 3
   },
   "file_extension": ".py",
   "mimetype": "text/x-python",
   "name": "python",
   "nbconvert_exporter": "python",
   "pygments_lexer": "ipython3",
   "version": "3.9.12"
  },
  "orig_nbformat": 4,
  "vscode": {
   "interpreter": {
    "hash": "de3a36d475e5f26841ec7388f3bf55db2f49f9bc2f20706f42a79b37e051f6ab"
   }
  }
 },
 "nbformat": 4,
 "nbformat_minor": 2
}
