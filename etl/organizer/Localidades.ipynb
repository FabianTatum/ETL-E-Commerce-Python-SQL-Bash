{
 "cells": [
  {
   "cell_type": "markdown",
   "metadata": {},
   "source": [
    "### Transformación de Localidades"
   ]
  },
  {
   "cell_type": "code",
   "execution_count": 4,
   "metadata": {},
   "outputs": [],
   "source": [
    "import sys\n",
    "sys.path.append('../..')"
   ]
  },
  {
   "cell_type": "code",
   "execution_count": 5,
   "metadata": {},
   "outputs": [],
   "source": [
    "import pandas as pd"
   ]
  },
  {
   "cell_type": "code",
   "execution_count": 6,
   "metadata": {},
   "outputs": [],
   "source": [
    "df_localidades = pd.read_csv('../../data-input/Localidades.csv')"
   ]
  },
  {
   "cell_type": "code",
   "execution_count": 7,
   "metadata": {},
   "outputs": [],
   "source": [
    "# TODO: Borrar columnas inncesarias\n",
    "\n",
    "df_localidades.drop(columns=['categoria', 'departamento_id', 'fuente', 'localidad_censal_id'], inplace=True)\n",
    "df_localidades.drop(columns=['municipio_id', 'nombre', 'provincia_id'], inplace=True)"
   ]
  },
  {
   "cell_type": "code",
   "execution_count": 8,
   "metadata": {},
   "outputs": [],
   "source": [
    "# TODO: Renombrar columnnas\n",
    "\n",
    "rename_columns = {\n",
    "    'centroide_lat': 'Latitud',\n",
    "    'centroide_lon': 'Longitud',\n",
    "    'departamento_nombre': 'Departamento',\n",
    "    'id': 'Codigo_Censal',\n",
    "    'localidad_censal_nombre': 'Localidad',\n",
    "    'municipio_nombre': 'Municipio',\n",
    "    'provincia_nombre': 'Provincia'\n",
    "}\n",
    "\n",
    "df_localidades.rename(columns=rename_columns, inplace=True)"
   ]
  },
  {
   "cell_type": "code",
   "execution_count": 9,
   "metadata": {},
   "outputs": [],
   "source": [
    "# TODO: Organizar columnas\n",
    "\n",
    "df_localidades = df_localidades.reindex(columns=['Codigo_Censal', 'Localidad', 'Municipio', 'Departamento', 'Provincia', 'Longitud', 'Latitud'])"
   ]
  },
  {
   "cell_type": "code",
   "execution_count": 10,
   "metadata": {},
   "outputs": [],
   "source": [
    "# TODO: Imputar valores nulos\n",
    "\n",
    "df_localidades['Municipio'] = df_localidades['Municipio'].fillna('Sin Dato')\n",
    "df_localidades['Departamento'] = df_localidades['Departamento'].fillna('Sin Dato')"
   ]
  },
  {
   "cell_type": "code",
   "execution_count": 11,
   "metadata": {},
   "outputs": [
    {
     "name": "stdout",
     "output_type": "stream",
     "text": [
      "<class 'pandas.core.frame.DataFrame'>\n",
      "RangeIndex: 4142 entries, 0 to 4141\n",
      "Data columns (total 7 columns):\n",
      " #   Column         Non-Null Count  Dtype  \n",
      "---  ------         --------------  -----  \n",
      " 0   Codigo_Censal  4142 non-null   int64  \n",
      " 1   Localidad      4142 non-null   object \n",
      " 2   Municipio      4142 non-null   object \n",
      " 3   Departamento   4142 non-null   object \n",
      " 4   Provincia      4142 non-null   object \n",
      " 5   Longitud       4142 non-null   float64\n",
      " 6   Latitud        4142 non-null   float64\n",
      "dtypes: float64(2), int64(1), object(4)\n",
      "memory usage: 226.6+ KB\n"
     ]
    }
   ],
   "source": [
    "df_localidades.info()"
   ]
  }
 ],
 "metadata": {
  "kernelspec": {
   "display_name": "Python 3.9.12 ('base')",
   "language": "python",
   "name": "python3"
  },
  "language_info": {
   "codemirror_mode": {
    "name": "ipython",
    "version": 3
   },
   "file_extension": ".py",
   "mimetype": "text/x-python",
   "name": "python",
   "nbconvert_exporter": "python",
   "pygments_lexer": "ipython3",
   "version": "3.9.12"
  },
  "orig_nbformat": 4,
  "vscode": {
   "interpreter": {
    "hash": "de3a36d475e5f26841ec7388f3bf55db2f49f9bc2f20706f42a79b37e051f6ab"
   }
  }
 },
 "nbformat": 4,
 "nbformat_minor": 2
}
